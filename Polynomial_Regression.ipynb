{
 "cells": [
  {
   "cell_type": "code",
   "execution_count": 1,
   "metadata": {},
   "outputs": [],
   "source": [
    "#libraries\n",
    "import numpy as np\n",
    "import pandas as pd\n",
    "import matplotlib.pyplot as plt\n",
    "import copy\n",
    "import math"
   ]
  },
  {
   "cell_type": "markdown",
   "metadata": {},
   "source": [
    "importing dataset"
   ]
  },
  {
   "cell_type": "code",
   "execution_count": 2,
   "metadata": {},
   "outputs": [],
   "source": [
    "d_train = pd.read_csv(\"Polynomialdata_train.csv\")\n",
    "d_test = pd.read_csv(\"Polynomialdata_test.csv\")"
   ]
  },
  {
   "cell_type": "code",
   "execution_count": 3,
   "metadata": {},
   "outputs": [],
   "source": [
    "X_test_g = d_test[d_test.columns.values]\n",
    "X_test_g = X_test_g.drop(['ID'], axis=1)\n",
    "X_test_g = X_test_g.to_numpy()"
   ]
  },
  {
   "cell_type": "code",
   "execution_count": 4,
   "metadata": {},
   "outputs": [],
   "source": [
    "X = d_train[['feature 1', 'feature 2', 'feature 3']]\n",
    "Y = d_train[['target']]"
   ]
  },
  {
   "cell_type": "code",
   "execution_count": 5,
   "metadata": {},
   "outputs": [],
   "source": [
    "x_features = ['feature 1', 'feature 2', 'feature 3']"
   ]
  },
  {
   "cell_type": "code",
   "execution_count": 6,
   "metadata": {},
   "outputs": [
    {
     "name": "stdout",
     "output_type": "stream",
     "text": [
      "x Shape: (50000, 3), X Type:<class 'pandas.core.frame.DataFrame'>\n",
      "y Shape: (50000, 1), y Type:<class 'pandas.core.frame.DataFrame'>\n"
     ]
    }
   ],
   "source": [
    "print(f\"x Shape: {X.shape}, X Type:{type(X)}\")\n",
    "print(f\"y Shape: {Y.shape}, y Type:{type(Y)}\")"
   ]
  },
  {
   "cell_type": "code",
   "execution_count": 7,
   "metadata": {},
   "outputs": [],
   "source": [
    "X = X.to_numpy().reshape(50000,3)\n",
    "Y = Y.to_numpy().reshape(50000)"
   ]
  },
  {
   "cell_type": "markdown",
   "metadata": {},
   "source": [
    "feature scaling"
   ]
  },
  {
   "cell_type": "code",
   "execution_count": 9,
   "metadata": {},
   "outputs": [],
   "source": [
    "def zscore_normalize_features(x):\n",
    "  mu = np.mean(x, axis=0)             \n",
    "  sigma  = np.std(x, axis=0)                  \n",
    "  x_norm = (x - mu) / sigma      \n",
    "  return (x_norm, mu, sigma)"
   ]
  },
  {
   "cell_type": "code",
   "execution_count": 10,
   "metadata": {},
   "outputs": [
    {
     "name": "stdout",
     "output_type": "stream",
     "text": [
      "X_mu = [ 0.09996351  0.01256211 -0.20509985], \n",
      "X_sigma = [21.84180997  4.00048729 56.04534679]\n",
      "Peak to Peak range by column in Raw        X:[194.81818672  34.88386435 484.02938964]\n",
      "Peak to Peak range by column in Normalized X:[8.91950745 8.7199038  8.63638852]\n"
     ]
    }
   ],
   "source": [
    "# normalize the original features\n",
    "x_norm, x_mu, x_sigma = zscore_normalize_features(X)\n",
    "print(f\"X_mu = {x_mu}, \\nX_sigma = {x_sigma}\")\n",
    "print(f\"Peak to Peak range by column in Raw        X:{np.ptp(X,axis=0)}\")   \n",
    "print(f\"Peak to Peak range by column in Normalized X:{np.ptp(x_norm,axis=0)}\")"
   ]
  },
  {
   "cell_type": "code",
   "execution_count": 11,
   "metadata": {},
   "outputs": [],
   "source": [
    "x_norm_test, x_mu_test, x_sigma_test = zscore_normalize_features(X_test_g)"
   ]
  },
  {
   "cell_type": "code",
   "execution_count": 12,
   "metadata": {},
   "outputs": [],
   "source": [
    "X_test_g = x_norm_test"
   ]
  },
  {
   "cell_type": "code",
   "execution_count": 41,
   "metadata": {},
   "outputs": [],
   "source": [
    "X = x_norm"
   ]
  },
  {
   "cell_type": "markdown",
   "metadata": {},
   "source": [
    "Plot of features vs labels"
   ]
  },
  {
   "cell_type": "code",
   "execution_count": 42,
   "metadata": {},
   "outputs": [
    {
     "data": {
      "image/png": "[encoded data removed]",
      "text/plain": [
       "<Figure size 1200x300 with 3 Axes>"
      ]
     },
     "metadata": {},
     "output_type": "display_data"
    }
   ],
   "source": [
    "fig,ax=plt.subplots(1, 3, figsize=(12, 3))\n",
    "ax[0].scatter(X[:,0], Y)\n",
    "ax[0].set_xlabel(x_features[0]); ax[0].set_ylabel('target')\n",
    "\n",
    "ax[1].scatter(X[:,1], Y)\n",
    "ax[1].set_xlabel(x_features[1]); ax[0].set_ylabel('target')\n",
    "\n",
    "ax[2].scatter(X[:,2], Y)\n",
    "ax[2].set_xlabel(x_features[2]); ax[0].set_ylabel('target')\n",
    "plt.tight_layout(rect=[0, 0.03, 1, 0.95])\n",
    "\n",
    "plt.show()"
   ]
  },
  {
   "cell_type": "markdown",
   "metadata": {},
   "source": [
    "splitting the dataset"
   ]
  },
  {
   "cell_type": "code",
   "execution_count": 14,
   "metadata": {},
   "outputs": [],
   "source": [
    "x_train = X[:30000,]\n",
    "y_train = Y[:30000,]\n",
    "x_cv = X[30000:40000,]\n",
    "y_cv = Y[30000:40000,]\n",
    "x_test = X[40000:,]\n",
    "y_test = Y[40000:,]"
   ]
  },
  {
   "cell_type": "markdown",
   "metadata": {},
   "source": [
    "Training the data"
   ]
  },
  {
   "cell_type": "code",
   "execution_count": 15,
   "metadata": {},
   "outputs": [],
   "source": [
    "def prediction(x, w, b):\n",
    "    y_pred = np.matmul(x,w) + b\n",
    "    return y_pred"
   ]
  },
  {
   "cell_type": "code",
   "execution_count": 16,
   "metadata": {},
   "outputs": [],
   "source": [
    "def compute_cost(x, y, w, b, lambda_):\n",
    "    m = x.shape[0]\n",
    "    y_pred = prediction(x, w, b)\n",
    "    err = y_pred - y\n",
    "    j = np.matmul(np.transpose(err),err)/(2*m)\n",
    "    reguralization = np.matmul(np.transpose(w),w)*lambda_/(2*m)\n",
    "    j_reguralized = j + reguralization\n",
    "    return j_reguralized"
   ]
  },
  {
   "cell_type": "code",
   "execution_count": 17,
   "metadata": {},
   "outputs": [],
   "source": [
    "def gradient(X, y, w, b):\n",
    "    m = X.shape[0]\n",
    "    dj_dw = 2*np.matmul(np.matmul(np.transpose(X), X), w) - 2*np.matmul(np.transpose(X), y) \n",
    "    y_pred = prediction(X, w, b)\n",
    "    error = y_pred - y\n",
    "    dj_db = sum(error)/m\n",
    "    dj_dw = dj_dw/(m)\n",
    "    return dj_dw, dj_db"
   ]
  },
  {
   "cell_type": "code",
   "execution_count": 18,
   "metadata": {},
   "outputs": [],
   "source": [
    "def gradient_descent(x, y, w, b, alpha, max_iters, lambda_):\n",
    "    m = x.shape[0]\n",
    "    J_history = []\n",
    "    w_curr = copy.deepcopy(w)\n",
    "    b_curr = b\n",
    "    cost_curr = compute_cost(x, y, w_curr, b_curr, lambda_)\n",
    "    iter_curr = 0\n",
    "    while iter_curr < max_iters and cost_curr >= 0.000000001:\n",
    "        dj_dw, dj_db = gradient(x, y, w_curr, b_curr)\n",
    "        w_curr = (w_curr - alpha * dj_dw) + w_curr*lambda_/m\n",
    "        b_curr = (b_curr - alpha * dj_db) \n",
    "        cost_curr = compute_cost(x, y, w_curr, b_curr, lambda_)\n",
    "        J_history.append(cost_curr)\n",
    "        if iter_curr%1000 == 0:\n",
    "            print(f\"Iteration:{iter_curr} Current_cost: {cost_curr}\")\n",
    "        iter_curr += 1\n",
    "    return w_curr, b_curr, J_history, iter_curr"
   ]
  },
  {
   "cell_type": "code",
   "execution_count": 19,
   "metadata": {},
   "outputs": [],
   "source": [
    "def multinomial_features(x, n):\n",
    "    m = x.shape[0]\n",
    "    terms = math.comb(n + 2, 2)\n",
    "    features = np.zeros((m, terms))\n",
    "    for i in range(m):\n",
    "        x1, x2, x3 = x[i]\n",
    "        terms = [x1**m1 * x2**m2 * x3**m3 for m1 in range(n + 1) for m2 in range(n + 1) for m3 in range(n + 1) if m1 + m2 + m3 == n]\n",
    "        features[i] = terms\n",
    "    return features\n"
   ]
  },
  {
   "cell_type": "code",
   "execution_count": 20,
   "metadata": {},
   "outputs": [],
   "source": [
    "def degree_features():\n",
    "#training data\n",
    "    degree_train = {}\n",
    "    degree_cv = {}\n",
    "    degree_test = {}\n",
    "    test_data = {}\n",
    "    for i in range(1,8):\n",
    "        degree_train[f'degree_train{i}'] = multinomial_features(x_train, i)\n",
    "        degree_cv[f'degree_cv{i}'] = multinomial_features(x_cv, i)\n",
    "        degree_test[f'degree_test{i}'] = multinomial_features(x_test, i)\n",
    "        test_data[f'test_degree{i}'] = multinomial_features(X_test_g, i)\n",
    "    return degree_train, degree_cv, degree_test, test_data\n"
   ]
  },
  {
   "cell_type": "code",
   "execution_count": 21,
   "metadata": {},
   "outputs": [],
   "source": [
    "degree_train, degree_cv, degree_test, test_data = degree_features()"
   ]
  },
  {
   "cell_type": "markdown",
   "metadata": {},
   "source": [
    "Degree 2"
   ]
  },
  {
   "cell_type": "code",
   "execution_count": 22,
   "metadata": {},
   "outputs": [
    {
     "name": "stdout",
     "output_type": "stream",
     "text": [
      "x_train shape: (30000, 9)\n",
      "J_train: 64011477841852.64\n",
      "Iteration:0 Current_cost: 61427132355226.15\n",
      "Iteration:1000 Current_cost: 38221652448821.8\n",
      "Iteration:2000 Current_cost: 38221652445930.414\n",
      "Iteration:3000 Current_cost: 38221652445930.414\n",
      "b_final: -1340173.82\n",
      "w_final: [3824953.63688694  785540.17282773 -669627.87975808 3272695.900334\n",
      "  294593.47229628  -39620.92322749  -89405.52545349    8586.31945232\n",
      "  -19671.62162002]\n",
      "x_cv shape: (10000, 9)\n",
      "J_cv: 28823261028842.125\n"
     ]
    }
   ],
   "source": [
    "#degree 2\n",
    "#Training data\n",
    "X_train_2 = np.concatenate([degree_train[f'degree_train{2}'],degree_train[f'degree_train{1}']], axis=1)\n",
    "print(f\"x_train shape: {X_train_2.shape}\")\n",
    "\n",
    "b_initial_2 = 0.0000\n",
    "w_initial_2 = np.zeros(shape=X_train_2.shape[1])\n",
    "lambda_tmp = 0.00\n",
    "\n",
    "computed_cost_train = compute_cost(X_train_2, y_train, w_initial_2, b_initial_2, lambda_tmp)\n",
    "print(f\"J_train: {computed_cost_train}\")\n",
    "\n",
    "alpha = 0.01\n",
    "max_iters = 4000\n",
    "w_final_2, b_final_2, Cost_history_2, num_iters = gradient_descent(X_train_2, y_train, w_initial_2, b_initial_2, alpha, max_iters, lambda_tmp)\n",
    "print(f\"b_final: {b_final_2:0.2f}\")\n",
    "print(f\"w_final: {w_final_2}\")\n",
    "\n",
    "#Cross Validaton data\n",
    "X_cv = np.concatenate([degree_cv[f'degree_cv{2}'],degree_cv[f'degree_cv{1}']], axis=1)\n",
    "print(f\"x_cv shape: {X_cv.shape}\")\n",
    "\n",
    "cost_cv = compute_cost(X_cv, y_cv, w_final_2, b_final_2, lambda_tmp)\n",
    "print(f'J_cv: {cost_cv}')\n",
    "\n",
    "#Test data\n",
    "X_test_2 = np.concatenate([degree_test[f'degree_test{2}'],degree_test[f'degree_test{1}']], axis=1)"
   ]
  },
  {
   "cell_type": "markdown",
   "metadata": {},
   "source": [
    "Degree 3"
   ]
  },
  {
   "cell_type": "code",
   "execution_count": 23,
   "metadata": {},
   "outputs": [
    {
     "name": "stdout",
     "output_type": "stream",
     "text": [
      "x_train shape: (30000, 19)\n",
      "J_train: 64011477841852.64\n",
      "Iteration:0 Current_cost: 61357892475620.625\n",
      "Iteration:1000 Current_cost: 37944105885732.914\n",
      "Iteration:2000 Current_cost: 37944106368250.74\n",
      "Iteration:3000 Current_cost: 37944106378276.11\n",
      "Iteration:4000 Current_cost: 37944106378322.02\n",
      "Iteration:5000 Current_cost: 37944106378322.23\n",
      "Iteration:6000 Current_cost: 37944106378322.24\n",
      "Iteration:7000 Current_cost: 37944106378322.24\n",
      "Iteration:8000 Current_cost: 37944106378322.24\n",
      "b_final: -1339498.75\n",
      "w_final: [-293599.4488146   -66138.37691851   57010.97194896   11016.27451013\n",
      " -130723.54642528  -13672.78542719   60442.50718881  -33870.92826623\n",
      "   24058.3104709     4214.59289453 3827974.64766688  788066.77170888\n",
      " -669817.17812797 3271475.31729598  294473.3631326   -41040.58287646\n",
      "  758495.49017993   17494.1623027    27350.08821007]\n",
      "x_cv shape: (10000, 19)\n",
      "J_cv: 27573728072009.883\n"
     ]
    }
   ],
   "source": [
    "#degree 3\n",
    "#Training data\n",
    "X_train_3 = np.concatenate([degree_train[f'degree_train{3}'],degree_train[f'degree_train{2}'], degree_train[f'degree_train{1}'] ], axis=1)\n",
    "print(f\"x_train shape: {X_train_3.shape}\")\n",
    "\n",
    "b_initial_3 = 0.0000\n",
    "w_initial_3 = np.zeros(shape=X_train_3.shape[1])\n",
    "lambda_tmp = 0.00\n",
    "\n",
    "computed_cost_train = compute_cost(X_train_3, y_train, w_initial_3, b_initial_3, lambda_tmp)\n",
    "print(f\"J_train: {computed_cost_train}\")\n",
    "\n",
    "alpha = 0.01\n",
    "max_iters = 9000\n",
    "w_final_3, b_final_3, Cost_history_3, num_iters = gradient_descent(X_train_3, y_train, w_initial_3, b_initial_3, alpha, max_iters, lambda_tmp)\n",
    "print(f\"b_final: {b_final_3:0.2f}\")\n",
    "print(f\"w_final: {w_final_3}\")\n",
    "\n",
    "#Cross Validaton data\n",
    "X_cv = np.concatenate([degree_cv[f'degree_cv{3}'],degree_cv[f'degree_cv{2}'], degree_cv[f'degree_cv{1}'] ], axis=1)\n",
    "print(f\"x_cv shape: {X_cv.shape}\")\n",
    "\n",
    "cost_cv = compute_cost(X_cv, y_cv, w_final_3, b_final_3, lambda_tmp)\n",
    "print(f'J_cv: {cost_cv}')\n",
    "\n",
    "#Test data\n",
    "X_test_3 = np.concatenate([degree_test[f'degree_test{3}'],degree_test[f'degree_test{2}'], degree_test[f'degree_test{1}'] ], axis=1)"
   ]
  },
  {
   "cell_type": "markdown",
   "metadata": {},
   "source": [
    "Degree 4"
   ]
  },
  {
   "cell_type": "code",
   "execution_count": 24,
   "metadata": {},
   "outputs": [
    {
     "name": "stdout",
     "output_type": "stream",
     "text": [
      "x_train shape: (30000, 34)\n",
      "J_train: 64011477841852.64\n",
      "Iteration:0 Current_cost: 48057098462941.28\n",
      "Iteration:1000 Current_cost: 5112039841070.836\n",
      "Iteration:2000 Current_cost: 4359134102670.428\n",
      "Iteration:3000 Current_cost: 4137740447097.0806\n",
      "Iteration:4000 Current_cost: 4060292323930.9897\n",
      "Iteration:5000 Current_cost: 4029117678847.57\n",
      "Iteration:6000 Current_cost: 4015526402983.484\n",
      "Iteration:7000 Current_cost: 4009355685427.2905\n",
      "Iteration:8000 Current_cost: 4006483975456.578\n",
      "Iteration:9000 Current_cost: 4005118785232.447\n",
      "b_final: 344623.99\n",
      "w_final: [ 1.30308829e+06  5.06573748e+05 -9.34885631e+04 -2.60849606e+04\n",
      " -4.51951101e+04  1.95768110e+06  5.33902012e+05  6.87903791e+02\n",
      "  1.81033175e+03  9.34941745e+05  1.88596161e+05 -8.77571534e+04\n",
      "  2.24885210e+05  4.05640311e+04 -2.19553218e+04 -1.47022378e+05\n",
      " -5.91100922e+04  2.71211224e+04  3.33510057e+03 -8.32112895e+04\n",
      "  2.60240680e+04  2.61690292e+04  4.02303115e+04  2.12042622e+04\n",
      "  5.07695909e+03 -3.73719220e+06 -8.72621638e+05  6.40290508e+05\n",
      " -2.92348931e+06 -3.59367485e+05  1.37323529e+05  2.96329156e+05\n",
      "  2.19004356e+04  3.47670093e+04]\n",
      "x_cv shape: (10000, 34)\n",
      "J_cv: 2547866638272.492\n"
     ]
    }
   ],
   "source": [
    "#degree 4\n",
    "#Training data\n",
    "X_train_4 = np.concatenate([degree_train[f'degree_train{4}'] ,degree_train[f'degree_train{3}'],degree_train[f'degree_train{2}'], degree_train[f'degree_train{1}'] ], axis=1)\n",
    "print(f\"x_train shape: {X_train_4.shape}\")\n",
    "\n",
    "b_initial_4 = 0.0000\n",
    "w_initial_4 = np.zeros(shape=X_train_4.shape[1])\n",
    "lambda_tmp = 0.00\n",
    "\n",
    "computed_cost_train = compute_cost(X_train_4, y_train, w_initial_4, b_initial_4, lambda_tmp)\n",
    "print(f\"J_train: {computed_cost_train}\")\n",
    "\n",
    "alpha = 0.001\n",
    "max_iters = 10000\n",
    "w_final_4, b_final_4, Cost_history_4, num_iters = gradient_descent(X_train_4, y_train, w_initial_4, b_initial_4, alpha, max_iters, lambda_tmp)\n",
    "print(f\"b_final: {b_final_4:0.2f}\")\n",
    "print(f\"w_final: {w_final_4}\")\n",
    "\n",
    "#Cross Validaton data\n",
    "X_cv = np.concatenate([degree_cv[f'degree_cv{4}'] ,degree_cv[f'degree_cv{3}'],degree_cv[f'degree_cv{2}'], degree_cv[f'degree_cv{1}'] ], axis=1)\n",
    "print(f\"x_cv shape: {X_cv.shape}\")\n",
    "\n",
    "cost_cv = compute_cost(X_cv, y_cv, w_final_4, b_final_4, lambda_tmp)\n",
    "print(f'J_cv: {cost_cv}')\n",
    "\n",
    "#Test Data\n",
    "X_test_4 = np.concatenate([degree_test[f'degree_test{4}'] ,degree_test[f'degree_test{3}'],degree_test[f'degree_test{2}'], degree_test[f'degree_test{1}'] ], axis=1)\n"
   ]
  },
  {
   "cell_type": "markdown",
   "metadata": {},
   "source": [
    "Degree 5"
   ]
  },
  {
   "cell_type": "code",
   "execution_count": 25,
   "metadata": {},
   "outputs": [
    {
     "name": "stdout",
     "output_type": "stream",
     "text": [
      "x_train shape: (30000, 55)\n",
      "J_train: 64011477841852.64\n",
      "Iteration:0 Current_cost: 61888466767607.38\n",
      "Iteration:1000 Current_cost: 8570948877132.344\n",
      "Iteration:2000 Current_cost: 7138046934337.584\n",
      "Iteration:3000 Current_cost: 6452656336947.181\n",
      "Iteration:4000 Current_cost: 5987094142177.04\n",
      "Iteration:5000 Current_cost: 5632443253758.812\n",
      "Iteration:6000 Current_cost: 5349225518454.708\n",
      "Iteration:7000 Current_cost: 5116712391665.651\n",
      "Iteration:8000 Current_cost: 4922119455481.436\n",
      "Iteration:9000 Current_cost: 4756955185593.556\n",
      "b_final: -86990.85\n",
      "w_final: [-6.35235733e+04 -3.73111975e+04  3.62983542e+04  1.33020169e+04\n",
      "  2.16956503e+03  2.45859360e+03 -1.00795786e+05 -2.52923886e+04\n",
      "  8.03783257e+04  3.28962065e+04 -6.07079847e+03  2.75533835e+04\n",
      "  5.45387257e+04  7.29391374e+04  8.25840916e+03  5.97755930e+04\n",
      "  2.50153630e+04 -4.15839487e+03 -8.84748540e+03  4.11189533e+03\n",
      " -2.52105268e+03  1.13091842e+06  4.44442580e+05 -1.98704760e+05\n",
      " -9.75917109e+04  2.20175375e+04  1.65769863e+06  4.92981316e+05\n",
      " -2.14180890e+05 -3.33084904e+04  7.94379401e+05  1.54998142e+05\n",
      "  1.39782380e+04  6.22772736e+03 -2.17635680e+03  8.06558209e+03\n",
      "  3.55999287e+05  1.00100483e+05 -1.66658330e+05 -3.48124050e+04\n",
      "  1.87636334e+05 -4.54939236e+04 -2.27518234e+04 -9.99396371e+04\n",
      " -6.58267606e+04 -3.38347843e+04 -2.28550050e+06 -2.96616698e+05\n",
      "  4.18917942e+04 -8.06603164e+05 -6.80293886e+04 -1.49268168e+05\n",
      " -1.32995700e+05  9.29240302e+03  2.37060102e+04]\n",
      "x_cv shape: (10000, 55)\n",
      "J_cv: 2764737868063.9224\n"
     ]
    }
   ],
   "source": [
    "#degree 5\n",
    "#Training data\n",
    "X_train_5 = np.concatenate([degree_train[f'degree_train{5}'], degree_train[f'degree_train{4}'] ,degree_train[f'degree_train{3}'],degree_train[f'degree_train{2}'], degree_train[f'degree_train{1}'] ], axis=1)\n",
    "print(f\"x_train shape: {X_train_5.shape}\")\n",
    "\n",
    "b_initial_5 = 0.0000\n",
    "w_initial_5 = np.zeros(shape=X_train_5.shape[1])\n",
    "lambda_tmp = 0.00\n",
    "\n",
    "computed_cost_train = compute_cost(X_train_5, y_train, w_initial_5, b_initial_5, lambda_tmp)\n",
    "print(f\"J_train: {computed_cost_train}\")\n",
    "\n",
    "alpha = 0.0001\n",
    "max_iters = 10000\n",
    "w_final_5, b_final_5, Cost_history_5, num_iters = gradient_descent(X_train_5, y_train, w_initial_5, b_initial_5, alpha, max_iters, lambda_tmp)\n",
    "print(f\"b_final: {b_final_5:0.2f}\")\n",
    "print(f\"w_final: {w_final_5}\")\n",
    "\n",
    "#Cross Validaton data\n",
    "X_cv = np.concatenate([degree_cv[f'degree_cv{5}'], degree_cv[f'degree_cv{4}'] ,degree_cv[f'degree_cv{3}'],degree_cv[f'degree_cv{2}'], degree_cv[f'degree_cv{1}'] ], axis=1)\n",
    "print(f\"x_cv shape: {X_cv.shape}\")\n",
    "\n",
    "cost_cv = compute_cost(X_cv, y_cv, w_final_5, b_final_5, lambda_tmp)\n",
    "print(f'J_cv: {cost_cv}')\n",
    "\n",
    "#Test_data\n",
    "X_test_5 = np.concatenate([degree_test[f'degree_test{5}'], degree_test[f'degree_test{4}'] ,degree_test[f'degree_test{3}'],degree_test[f'degree_test{2}'], degree_test[f'degree_test{1}'] ], axis=1)"
   ]
  },
  {
   "cell_type": "markdown",
   "metadata": {},
   "source": [
    "Degree 6"
   ]
  },
  {
   "cell_type": "code",
   "execution_count": 26,
   "metadata": {},
   "outputs": [
    {
     "name": "stdout",
     "output_type": "stream",
     "text": [
      "x_train shape: (30000, 83)\n",
      "J_train: 64011477841852.64\n",
      "Iteration:0 Current_cost: 46446565113853.81\n",
      "Iteration:1000 Current_cost: 64596762061.04688\n",
      "Iteration:2000 Current_cost: 15292683155.769482\n",
      "Iteration:3000 Current_cost: 6510431178.611\n",
      "Iteration:4000 Current_cost: 3918231853.1632915\n",
      "Iteration:5000 Current_cost: 2703298653.5247984\n",
      "Iteration:6000 Current_cost: 1974502536.974041\n",
      "Iteration:7000 Current_cost: 1491819098.674462\n",
      "Iteration:8000 Current_cost: 1157620882.5211287\n",
      "Iteration:9000 Current_cost: 919768394.401031\n",
      "b_final: -652.77\n",
      "w_final: [ 7.94889395e+04  3.40578123e+04  5.82713048e+03  8.76521323e-01\n",
      " -1.51814861e+02  1.23994956e+01  3.46997953e+01  1.84761515e+05\n",
      "  6.49585383e+04  8.70610802e+03  2.08001364e+03 -2.44193539e+02\n",
      " -1.76797009e+02  1.79041064e+05  4.64725614e+04  8.25692814e+03\n",
      "  2.32400949e+03 -2.39810725e+02  9.14330630e+04  1.98128932e+04\n",
      "  1.69674183e+03  6.79751376e+02  2.66730621e+04  4.93158871e+03\n",
      "  1.02806654e+02  4.08373131e+03  2.56987127e+02  4.94940837e+02\n",
      " -9.99559477e+02 -5.86412795e+02  4.34135241e+02  5.27272655e+02\n",
      " -2.51681067e+02 -2.32162521e+00 -1.93851700e+03 -9.45445677e+02\n",
      " -1.99639596e+02  3.44743254e+02  1.98709311e+01 -1.57963610e+03\n",
      "  7.83196176e+02  1.79493822e+03  2.95746552e+00  2.36529346e+02\n",
      "  3.24395953e+02  1.26978052e+02 -2.77287974e+02  2.13679247e+02\n",
      " -5.17286821e+01  2.69737277e+03  5.77980967e+03 -1.31561592e+03\n",
      " -1.49364382e+03  4.36845872e+01  1.97480455e+04  6.73679429e+03\n",
      " -1.79245212e+03 -9.55619391e+02  1.46126686e+04  3.63292755e+03\n",
      " -4.44243552e+02  3.79761468e+03 -1.05819965e+03 -2.60752675e+03\n",
      "  1.34032235e+03 -9.32518318e+01 -6.92474621e+02 -3.56209369e+02\n",
      " -1.26815982e+03 -3.51084777e+02  7.50839884e+01 -2.97912044e+02\n",
      " -2.94781844e+02 -1.88618202e+02 -2.57835489e+03  1.40613263e+02\n",
      " -6.71899302e+02 -3.26272881e+02  6.57786780e+01  3.71078261e+02\n",
      " -9.69090175e+01 -1.52143070e+02 -2.19205657e+02]\n",
      "x_cv shape: (10000, 83)\n",
      "J_cv: 679476363.3099477\n"
     ]
    }
   ],
   "source": [
    "#degree 6\n",
    "#Training data\n",
    "X_train_6 = np.concatenate([degree_train[f'degree_train{6}'], degree_train[f'degree_train{5}'], degree_train[f'degree_train{4}'] ,degree_train[f'degree_train{3}'],degree_train[f'degree_train{2}'], degree_train[f'degree_train{1}'] ], axis=1)\n",
    "print(f\"x_train shape: {X_train_6.shape}\")\n",
    "\n",
    "b_initial_6 = 0.0000\n",
    "w_initial_6 = np.zeros(shape=X_train_6.shape[1])\n",
    "lambda_tmp = 0.00\n",
    "\n",
    "computed_cost_train = compute_cost(X_train_6, y_train, w_initial_6, b_initial_6, lambda_tmp)\n",
    "print(f\"J_train: {computed_cost_train}\")\n",
    "\n",
    "alpha = 0.00001\n",
    "max_iters = 10000\n",
    "w_final_6, b_final_6, Cost_history_6, num_iters = gradient_descent(X_train_6, y_train, w_initial_6, b_initial_6, alpha, max_iters, lambda_tmp)\n",
    "print(f\"b_final: {b_final_6:0.2f}\")\n",
    "print(f\"w_final: {w_final_6}\")\n",
    "\n",
    "#Cross Validaton data\n",
    "X_cv = np.concatenate([degree_cv[f'degree_cv{6}'], degree_cv[f'degree_cv{5}'], degree_cv[f'degree_cv{4}'] ,degree_cv[f'degree_cv{3}'],degree_cv[f'degree_cv{2}'], degree_cv[f'degree_cv{1}'] ], axis=1)\n",
    "print(f\"x_cv shape: {X_cv.shape}\")\n",
    "\n",
    "cost_cv = compute_cost(X_cv, y_cv, w_final_6, b_final_6, lambda_tmp)\n",
    "print(f'J_cv: {cost_cv}')\n",
    "\n",
    "#Test Data\n",
    "X_test_6 = np.concatenate([degree_test[f'degree_test{6}'], degree_test[f'degree_test{5}'], degree_test[f'degree_test{4}'] ,degree_test[f'degree_test{3}'],degree_test[f'degree_test{2}'], degree_test[f'degree_test{1}'] ], axis=1)"
   ]
  },
  {
   "cell_type": "markdown",
   "metadata": {},
   "source": [
    "Degree 7"
   ]
  },
  {
   "cell_type": "code",
   "execution_count": 27,
   "metadata": {},
   "outputs": [
    {
     "name": "stdout",
     "output_type": "stream",
     "text": [
      "x_train shape: (30000, 119)\n",
      "J_train: 64011477841852.64\n",
      "Iteration:0 Current_cost: 60692900496746.305\n",
      "Iteration:1000 Current_cost: 2079185246982.6565\n",
      "Iteration:2000 Current_cost: 727888255825.8965\n",
      "Iteration:3000 Current_cost: 372384859456.807\n",
      "Iteration:4000 Current_cost: 236499417214.53748\n",
      "Iteration:5000 Current_cost: 171924398202.35196\n",
      "Iteration:6000 Current_cost: 134914105060.10876\n",
      "Iteration:7000 Current_cost: 110323495197.17413\n",
      "Iteration:8000 Current_cost: 92289609517.76347\n",
      "Iteration:9000 Current_cost: 78260381428.29965\n",
      "b_final: 83.06\n",
      "w_final: [-2.32340786e+02 -2.40004411e+02  4.47659373e+02  1.40984669e+03\n",
      " -6.67150567e+02 -1.02134333e+03  3.37902163e+02  9.56607074e+01\n",
      "  1.56437678e+03 -6.14768538e+02 -3.33333172e+03  1.86922851e+03\n",
      "  3.48973054e+02 -6.13894237e+02 -2.17540868e+02 -1.07597491e+03\n",
      " -1.57590306e+03  3.02166514e+03  3.59851880e+03 -1.62324440e+03\n",
      " -2.46503743e+02 -3.08429311e+03 -4.51850781e+02  2.63743670e+03\n",
      "  1.73075409e+03  1.48934940e+03 -1.27517681e+03  1.58002399e+02\n",
      "  4.19624678e+03  2.67787957e+00  2.91804987e+03  3.38565771e+02\n",
      " -1.54756367e+03  2.61522314e+02 -1.98094899e+02  9.64834669e+01\n",
      "  8.06010599e+04  3.31210923e+04  1.21648674e+03  6.91931258e+03\n",
      " -2.49346040e+02 -1.87074983e+03  1.83441453e+02  1.86404792e+05\n",
      "  4.98510466e+04  1.60557095e+04  1.40708787e+04 -1.44558376e+03\n",
      " -9.48751671e+02  1.42945316e+05  2.23917875e+04  1.48458986e+04\n",
      "  6.84797299e+03 -1.87045918e+03  7.56794336e+04  2.06325639e+04\n",
      "  5.54300877e+03 -4.57589169e+02  5.78952765e+04  1.05252568e+04\n",
      "  6.13507924e+02  6.36128075e+03  1.76725859e+03 -1.24199045e+03\n",
      "  3.04957719e+03 -1.83661527e+03 -1.97077615e+03 -4.43660501e+02\n",
      " -1.21396781e+03 -9.89289367e+01 -4.19297100e+03 -9.50986434e+02\n",
      " -1.00980322e+03 -5.83229054e+02 -3.37582301e+02 -6.36149420e+02\n",
      " -8.49054628e+02 -8.28940486e+02 -3.57142632e+02 -1.50516492e+03\n",
      " -1.05730436e+03 -3.22478063e+02 -7.61341929e+02  4.62804531e+02\n",
      " -1.20546843e+02  1.81955880e+04  6.19573746e+03  1.12738659e+03\n",
      "  1.10553887e+03 -9.69094693e+02  2.53456044e+04  6.95276978e+03\n",
      "  1.55878079e+03  5.46442146e+02  1.87560209e+04  3.27489546e+03\n",
      "  1.74246355e+02  8.26731525e+03  3.67654543e+02  4.50262506e+02\n",
      " -5.19340981e+02 -4.39106969e+02 -7.04036576e+02 -8.84823221e+01\n",
      " -9.83186113e+02 -4.24910564e+02 -2.84719781e+02 -4.67627614e+02\n",
      " -1.29453111e+02 -4.86062327e+02  3.17821532e+03  1.04978325e+03\n",
      " -2.38394115e+02  3.41313652e+03  5.76452644e+02  1.32019111e+03\n",
      " -3.53040634e+02 -5.06607224e+01 -2.38969689e+02]\n",
      "x_cv shape: (10000, 119)\n",
      "J_cv: 69931143593.0368\n"
     ]
    }
   ],
   "source": [
    "#degree 7\n",
    "#Training data\n",
    "X_train_7 = np.concatenate([degree_train[f'degree_train{7}'], degree_train[f'degree_train{6}'], degree_train[f'degree_train{5}'], degree_train[f'degree_train{4}'] ,degree_train[f'degree_train{3}'],degree_train[f'degree_train{2}'], degree_train[f'degree_train{1}'] ], axis=1)\n",
    "print(f\"x_train shape: {X_train_7.shape}\")\n",
    "\n",
    "b_initial_7 = 0.0000\n",
    "w_initial_7 = np.zeros(shape=X_train_7.shape[1])\n",
    "lambda_tmp = 0.00\n",
    "\n",
    "computed_cost_train = compute_cost(X_train_7, y_train, w_initial_7, b_initial_7, lambda_tmp)\n",
    "print(f\"J_train: {computed_cost_train}\")\n",
    "\n",
    "alpha = 0.000001\n",
    "max_iters = 10000\n",
    "w_final_7, b_final_7, Cost_history_7, num_iters = gradient_descent(X_train_7, y_train, w_initial_7, b_initial_7, alpha, max_iters, lambda_tmp)\n",
    "print(f\"b_final: {b_final_7:0.2f}\")\n",
    "print(f\"w_final: {w_final_7}\")\n",
    "\n",
    "#Cross Validaton data\n",
    "X_cv = np.concatenate([degree_cv[f'degree_cv{7}'], degree_cv[f'degree_cv{6}'], degree_cv[f'degree_cv{5}'], degree_cv[f'degree_cv{4}'] ,degree_cv[f'degree_cv{3}'],degree_cv[f'degree_cv{2}'], degree_cv[f'degree_cv{1}'] ], axis=1)\n",
    "print(f\"x_cv shape: {X_cv.shape}\")\n",
    "\n",
    "cost_cv = compute_cost(X_cv, y_cv, w_final_7, b_final_7, lambda_tmp)\n",
    "print(f'J_cv: {cost_cv}')\n",
    "\n",
    "#Test Data\n",
    "X_test_7 = np.concatenate([degree_test[f'degree_test{7}'], degree_test[f'degree_test{6}'], degree_test[f'degree_test{5}'], degree_test[f'degree_test{4}'] ,degree_test[f'degree_test{3}'],degree_test[f'degree_test{2}'], degree_test[f'degree_test{1}'] ], axis=1)"
   ]
  },
  {
   "cell_type": "code",
   "execution_count": 28,
   "metadata": {},
   "outputs": [],
   "source": [
    "y_preds = prediction(X_train_6, w_final_6, b_final_6)"
   ]
  },
  {
   "cell_type": "code",
   "execution_count": 29,
   "metadata": {},
   "outputs": [
    {
     "data": {
      "image/png": "[encoded data removed]",
      "text/plain": [
       "<Figure size 600x400 with 1 Axes>"
      ]
     },
     "metadata": {},
     "output_type": "display_data"
    }
   ],
   "source": [
    "plt.figure(figsize=(6,4))\n",
    "iterations = np.arange(1, 10001) \n",
    "costs = Cost_history_6\n",
    "plt.plot(iterations, costs, label='Cost')\n",
    "plt.title('Iterations vs Cost')\n",
    "plt.xlabel('Iterations')\n",
    "plt.ylabel('Cost')\n",
    "plt.legend()\n",
    "plt.grid(True)\n",
    "plt.show()"
   ]
  },
  {
   "cell_type": "code",
   "execution_count": 30,
   "metadata": {},
   "outputs": [
    {
     "data": {
      "image/png": "[encoded data removed]",
      "text/plain": [
       "<Figure size 600x400 with 1 Axes>"
      ]
     },
     "metadata": {},
     "output_type": "display_data"
    }
   ],
   "source": [
    "plt.figure(figsize=(6,4))\n",
    "y_preds\n",
    "plt.scatter(y_train, y_preds, c='crimson')\n",
    "plt.yscale('log')\n",
    "plt.xscale('log')\n",
    "\n",
    "p1 = max(max(y_preds), max(y_train))\n",
    "p2 = min(min(y_preds), min(y_train))\n",
    "plt.plot([p1, p2], [p1, p2], 'b-')\n",
    "plt.title(\"Predictions vs True value \\n Training data\")\n",
    "plt.xlabel('True Values', fontsize=15)\n",
    "plt.ylabel('Predictions', fontsize=15)\n",
    "plt.axis('equal')\n",
    "plt.show()"
   ]
  },
  {
   "cell_type": "code",
   "execution_count": 31,
   "metadata": {},
   "outputs": [],
   "source": [
    "y_pred_test = prediction(X_test_6, w_final_6, b_final_6)"
   ]
  },
  {
   "cell_type": "code",
   "execution_count": 32,
   "metadata": {},
   "outputs": [
    {
     "data": {
      "image/png": "[encoded data removed]",
      "text/plain": [
       "<Figure size 1200x300 with 4 Axes>"
      ]
     },
     "metadata": {},
     "output_type": "display_data"
    }
   ],
   "source": [
    "fig,ax=plt.subplots(1, 4, figsize=(12, 3))\n",
    "plt.title('Predictions vs Features')\n",
    "ax[0].scatter(X_test_6[:,0], y_pred_test)\n",
    "ax[0].set_xlabel('a'); ax[0].set_ylabel('Predictions')\n",
    "#ax[0].axis('equal')\n",
    "\n",
    "ax[1].scatter(X_test_6[:,10], y_pred_test)\n",
    "ax[1].set_xlabel('b'); ax[0].set_ylabel('Predictions')\n",
    "#ax[1].axis('equal')\n",
    "\n",
    "ax[2].scatter(X_test_6[:,20], y_pred_test)\n",
    "ax[2].set_xlabel('c'); ax[0].set_ylabel('Predictions')\n",
    "plt.tight_layout(rect=[0, 0.03, 1, 0.95])\n",
    "\n",
    "ax[3].scatter(X_test_6[:,30], y_pred_test)\n",
    "ax[3].set_xlabel('d'); ax[0].set_ylabel('Predictions')\n",
    "\n",
    "plt.show()"
   ]
  },
  {
   "cell_type": "code",
   "execution_count": 43,
   "metadata": {},
   "outputs": [
    {
     "data": {
      "image/png": "[encoded data removed]",
      "text/plain": [
       "<Figure size 600x400 with 1 Axes>"
      ]
     },
     "metadata": {},
     "output_type": "display_data"
    }
   ],
   "source": [
    "plt.figure(figsize=(6,4))\n",
    "y_pred_test\n",
    "plt.scatter(y_test, y_pred_test, c='crimson')\n",
    "plt.yscale('log')\n",
    "plt.xscale('log')\n",
    "\n",
    "p1 = max(max(y_pred_test), max(y_test))\n",
    "p2 = min(min(y_pred_test), min(y_test))\n",
    "plt.plot([p1, p2], [p1, p2], 'b-')\n",
    "plt.title(\"Predictions vs True value \\n Cross Validation data\")\n",
    "plt.xlabel('True Values', fontsize=15)\n",
    "plt.ylabel('Predictions', fontsize=15)\n",
    "plt.axis('equal')\n",
    "plt.show()"
   ]
  },
  {
   "cell_type": "code",
   "execution_count": 34,
   "metadata": {},
   "outputs": [],
   "source": [
    "#R2 Score\n",
    "def R2_score(x, y, w, b):\n",
    "    y_pred = prediction(x, w, b)\n",
    "    error = y_pred - y \n",
    "    y_mean = np.mean(y)\n",
    "    y1 = y - y_mean\n",
    "    rss = np.matmul(np.transpose(error),error)\n",
    "    tss = np.matmul(np.transpose(y1),y1)\n",
    "    rss_tss = rss/tss\n",
    "    r2 = 1 - rss_tss\n",
    "    return r2"
   ]
  },
  {
   "cell_type": "code",
   "execution_count": 35,
   "metadata": {},
   "outputs": [
    {
     "data": {
      "text/plain": [
       "0.9999880493606477"
      ]
     },
     "execution_count": 35,
     "metadata": {},
     "output_type": "execute_result"
    }
   ],
   "source": [
    "R2_Score_train = R2_score(X_train_6, y_train, w_final_6, b_final_6)\n",
    "R2_Score_train"
   ]
  },
  {
   "cell_type": "code",
   "execution_count": 36,
   "metadata": {},
   "outputs": [
    {
     "data": {
      "text/plain": [
       "0.9999900505068088"
      ]
     },
     "execution_count": 36,
     "metadata": {},
     "output_type": "execute_result"
    }
   ],
   "source": [
    "R2_score_test = R2_score(X_test_6, y_test, w_final_6, b_final_6)\n",
    "R2_score_test"
   ]
  },
  {
   "cell_type": "markdown",
   "metadata": {},
   "source": [
    "Test data"
   ]
  },
  {
   "cell_type": "code",
   "execution_count": 37,
   "metadata": {},
   "outputs": [],
   "source": [
    "X_test_g6 = np.concatenate([test_data[f'test_degree{6}'], test_data[f'test_degree{5}'], test_data[f'test_degree{4}'] ,test_data[f'test_degree{3}'], test_data[f'test_degree{2}'], test_data[f'test_degree{1}'] ], axis=1)"
   ]
  },
  {
   "cell_type": "code",
   "execution_count": 38,
   "metadata": {},
   "outputs": [],
   "source": [
    "Y_test = prediction(X_test_g6, w_final_6, b_final_6)"
   ]
  },
  {
   "cell_type": "code",
   "execution_count": 39,
   "metadata": {},
   "outputs": [
    {
     "name": "stdout",
     "output_type": "stream",
     "text": [
      "[542126.65649533 957034.74989508 -11574.63053745 ... 847361.37266732\n",
      "  69209.79420998  -3904.90353473]\n"
     ]
    }
   ],
   "source": [
    "print(Y_test)"
   ]
  },
  {
   "cell_type": "code",
   "execution_count": 44,
   "metadata": {},
   "outputs": [],
   "source": [
    "insert_index = 0\n",
    "modified_array = np.insert(X_test_g, insert_index, Y_test, axis=1)"
   ]
  },
  {
   "cell_type": "code",
   "execution_count": 45,
   "metadata": {},
   "outputs": [],
   "source": [
    "df = pd.DataFrame(modified_array)\n",
    "file_path = 'Polynomial_regression.csv'\n",
    "df.to_csv(file_path, index=False, header=False)"
   ]
  },
  {
   "cell_type": "code",
   "execution_count": null,
   "metadata": {},
   "outputs": [],
   "source": []
  }
 ],
 "metadata": {
  "kernelspec": {
   "display_name": "base",
   "language": "python",
   "name": "python3"
  },
  "language_info": {
   "codemirror_mode": {
    "name": "ipython",
    "version": 3
   },
   "file_extension": ".py",
   "mimetype": "text/x-python",
   "name": "python",
   "nbconvert_exporter": "python",
   "pygments_lexer": "ipython3",
   "version": "3.11.5"
  }
 },
 "nbformat": 4,
 "nbformat_minor": 2
}
